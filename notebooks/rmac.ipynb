{
 "cells": [
  {
   "cell_type": "code",
   "execution_count": 1,
   "metadata": {},
   "outputs": [],
   "source": [
    "import numpy as np\n",
    "from skimage.measure import block_reduce\n",
    "from sklearn.decomposition import PCA"
   ]
  },
  {
   "cell_type": "code",
   "execution_count": 2,
   "metadata": {},
   "outputs": [],
   "source": [
    "# Debug\n",
    "# np.seterr(all='raise') "
   ]
  },
  {
   "cell_type": "code",
   "execution_count": 3,
   "metadata": {},
   "outputs": [],
   "source": [
    "def global_max_pool_2d(v):\n",
    "    '''\n",
    "        # Arguments: \n",
    "            v: 4D tensor (batch_size, width, height, channels)\n",
    "        \n",
    "        # Output: a 2D tensor\n",
    "    '''\n",
    "    v_reduced = block_reduce(v, \n",
    "            block_size=(1, v.shape[1], v.shape[2], 1), func=np.max)\n",
    "    v_reduced = v_reduced.squeeze((1,2))\n",
    "    return v_reduced\n",
    "\n",
    "\n",
    "def global_sum_pool_2d(v):\n",
    "    v_reduced = block_reduce(v, \n",
    "            block_size=(1, v.shape[1], v.shape[2], 1), func=np.sum)\n",
    "    return v_reduced\n",
    "\n",
    "\n",
    "def pca_whiten(m, n_components=None):\n",
    "    pca = PCA(n_components=n_components, whiten=True)\n",
    "    whitened = pca.fit_transform(m)\n",
    "    return whitened\n",
    "\n",
    "\n",
    "def l2_normalize(v):\n",
    "    norm = np.linalg.norm(v)\n",
    "    if norm == 0:\n",
    "        return v\n",
    "    return v / norm\n",
    "    \n",
    "\n",
    "def calculate_mac(feature_vecs, pca=None):\n",
    "    ''' Maximum Activations of Convolutions\n",
    "        i.e.) a spatial max-pool\n",
    "\n",
    "        # Arguments:\n",
    "            feature_vecs: (batch_size, width, height, num_channels)\n",
    "\n",
    "        # Returns:\n",
    "            mac_vector (batch_size, num_channels)\n",
    "    ''' \n",
    "    result = global_max_pool_2d(feature_vecs) # Outputs (batch_size, num_channels)\n",
    "    result = l2_normalize(result)\n",
    "    \n",
    "    if pca is not None:\n",
    "        result = pca.transform(result)\n",
    "        \n",
    "    result = l2_normalize(result)\n",
    "\n",
    "    return feature_vecs\n",
    "    \n",
    "    \n",
    "def calculate_rmac(conv_maps, L=3, pca=None):\n",
    "    ''' Regional Maximum Activation of Convolutions\n",
    "        \n",
    "        # Arguments:\n",
    "            conv_maps: (batch_size, width, height, num_channels)\n",
    "            L: the number of levels (different sizes) of square regions \n",
    "            to pool from.\n",
    "            \n",
    "        # Returns:\n",
    "            rmac_vector (batch_size, num_channels)\n",
    "    '''\n",
    "    rmac_regions = get_rmac_regions(L, conv_maps.shape[1], conv_maps.shape[2])\n",
    "    \n",
    "    mac_list = []\n",
    "        \n",
    "    for region in rmac_regions:\n",
    "        width_start = region[0]\n",
    "        width_end = width_start + region[2]\n",
    "        height_start = region[1]\n",
    "        height_end = height_start + region[2]\n",
    "        \n",
    "        sliced = conv_maps[:, \n",
    "                           width_start:width_end,\n",
    "                           height_start:height_end,\n",
    "                           :]\n",
    "                           \n",
    "        mac = calculate_mac(sliced, pca=pca)\n",
    "        mac_list.append(mac)\n",
    "        \n",
    "    mac_list = np.asarray(mac_list) # (num_regions, batch_size, channels)\n",
    "    summed_mac_list = np.sum(mac_list, axis=0) # (batch_size, channels)\n",
    "    summed_mac_list = l2_normalize(summed_mac_list)\n",
    "\n",
    "    return summed_mac_list\n",
    "\n",
    "\n",
    "def get_rmac_regions(W, H, L):\n",
    "\n",
    "    ovr = 0.4 # desired overlap of neighboring regions\n",
    "    steps = np.array([2, 3, 4, 5, 6, 7], dtype=np.float) # possible regions for the long dimension\n",
    "\n",
    "    w = min(W,H)\n",
    "\n",
    "    b = (max(H,W) - w)/(steps-1)\n",
    "    idx = np.argmin(abs(((w ** 2 - w*b)/w ** 2)-ovr)) # steps(idx) regions for long dimension\n",
    "\n",
    "    # region overplus per dimension\n",
    "    Wd, Hd = 0, 0\n",
    "    if H < W:\n",
    "        Wd = idx + 1\n",
    "    elif H > W:\n",
    "        Hd = idx + 1\n",
    "\n",
    "    regions = []\n",
    "\n",
    "    for l in range(1,L+1):\n",
    "\n",
    "        wl = np.floor(2*w/(l+1))\n",
    "        wl2 = np.floor(wl/2 - 1)\n",
    "\n",
    "        b = (W - wl) / (l + Wd - 1)\n",
    "        if np.isnan(b): # for the first level\n",
    "            b = 0\n",
    "        cenW = np.floor(wl2 + np.arange(0,l+Wd)*b) - wl2 # center coordinates\n",
    "\n",
    "        b = (H-wl)/(l+Hd-1)\n",
    "        if np.isnan(b): # for the first level\n",
    "            b = 0\n",
    "        cenH = np.floor(wl2 + np.arange(0,l+Hd)*b) - wl2 # center coordinates\n",
    "\n",
    "        for i_ in cenH:\n",
    "            for j_ in cenW:\n",
    "                # R = np.array([i_, j_, wl, wl], dtype=np.int)\n",
    "                R = np.array([j_, i_, wl, wl], dtype=np.int)\n",
    "                if not min(R[2:]):\n",
    "                    continue\n",
    "\n",
    "                regions.append(R)\n",
    "\n",
    "    regions = np.asarray(regions)\n",
    "    return regions"
   ]
  },
  {
   "cell_type": "code",
   "execution_count": 4,
   "metadata": {},
   "outputs": [],
   "source": [
    "conv_maps = np.random.randn(2000, 7, 7, 1024)"
   ]
  },
  {
   "cell_type": "code",
   "execution_count": 8,
   "metadata": {},
   "outputs": [
    {
     "name": "stdout",
     "output_type": "stream",
     "text": [
      "reduced.shape (2000, 512)\n"
     ]
    }
   ],
   "source": [
    "# Fit PCA and get weights first,\n",
    "# then pass it to calculate_mac\n",
    "macs = np.random.randn(2000, 1024)\n",
    "\n",
    "pca = PCA(n_components=512, whiten=True)\n",
    "reduced = pca.fit_transform(macs)\n",
    "print('reduced.shape', reduced.shape)"
   ]
  },
  {
   "cell_type": "code",
   "execution_count": 5,
   "metadata": {},
   "outputs": [
    {
     "name": "stderr",
     "output_type": "stream",
     "text": [
      "/home/ec2-user/miniconda3/lib/python3.6/site-packages/ipykernel_launcher.py:111: RuntimeWarning: invalid value encountered in double_scalars\n"
     ]
    },
    {
     "ename": "ValueError",
     "evalue": "could not broadcast input array from shape (2000,3,3,1024) into shape (2000)",
     "output_type": "error",
     "traceback": [
      "\u001b[0;31m---------------------------------------------------------------------------\u001b[0m",
      "\u001b[0;31mValueError\u001b[0m                                Traceback (most recent call last)",
      "\u001b[0;32m<ipython-input-5-cc897c8d60fe>\u001b[0m in \u001b[0;36m<module>\u001b[0;34m\u001b[0m\n\u001b[0;32m----> 1\u001b[0;31m \u001b[0mrmac\u001b[0m \u001b[0;34m=\u001b[0m \u001b[0mcalculate_rmac\u001b[0m\u001b[0;34m(\u001b[0m\u001b[0mconv_maps\u001b[0m\u001b[0;34m,\u001b[0m \u001b[0mpca_dims\u001b[0m\u001b[0;34m=\u001b[0m\u001b[0;36m512\u001b[0m\u001b[0;34m)\u001b[0m\u001b[0;34m\u001b[0m\u001b[0;34m\u001b[0m\u001b[0m\n\u001b[0m\u001b[1;32m      2\u001b[0m \u001b[0mprint\u001b[0m\u001b[0;34m(\u001b[0m\u001b[0;34m'rmac.shape'\u001b[0m\u001b[0;34m,\u001b[0m \u001b[0mrmac\u001b[0m\u001b[0;34m.\u001b[0m\u001b[0mshape\u001b[0m\u001b[0;34m)\u001b[0m\u001b[0;34m\u001b[0m\u001b[0;34m\u001b[0m\u001b[0m\n",
      "\u001b[0;32m<ipython-input-3-8487819280aa>\u001b[0m in \u001b[0;36mcalculate_rmac\u001b[0;34m(conv_maps, L, pca_dims)\u001b[0m\n\u001b[1;32m     78\u001b[0m         \u001b[0mmac_list\u001b[0m\u001b[0;34m.\u001b[0m\u001b[0mappend\u001b[0m\u001b[0;34m(\u001b[0m\u001b[0mmac\u001b[0m\u001b[0;34m)\u001b[0m\u001b[0;34m\u001b[0m\u001b[0;34m\u001b[0m\u001b[0m\n\u001b[1;32m     79\u001b[0m \u001b[0;34m\u001b[0m\u001b[0m\n\u001b[0;32m---> 80\u001b[0;31m     \u001b[0mmac_list\u001b[0m \u001b[0;34m=\u001b[0m \u001b[0mnp\u001b[0m\u001b[0;34m.\u001b[0m\u001b[0masarray\u001b[0m\u001b[0;34m(\u001b[0m\u001b[0mmac_list\u001b[0m\u001b[0;34m)\u001b[0m \u001b[0;31m# (num_regions, batch_size, channels)\u001b[0m\u001b[0;34m\u001b[0m\u001b[0;34m\u001b[0m\u001b[0m\n\u001b[0m\u001b[1;32m     81\u001b[0m     \u001b[0msummed_mac_list\u001b[0m \u001b[0;34m=\u001b[0m \u001b[0mnp\u001b[0m\u001b[0;34m.\u001b[0m\u001b[0msum\u001b[0m\u001b[0;34m(\u001b[0m\u001b[0mmac_list\u001b[0m\u001b[0;34m,\u001b[0m \u001b[0maxis\u001b[0m\u001b[0;34m=\u001b[0m\u001b[0;36m0\u001b[0m\u001b[0;34m)\u001b[0m \u001b[0;31m# (batch_size, channels)\u001b[0m\u001b[0;34m\u001b[0m\u001b[0;34m\u001b[0m\u001b[0m\n\u001b[1;32m     82\u001b[0m     \u001b[0msummed_mac_list\u001b[0m \u001b[0;34m=\u001b[0m \u001b[0ml2_normalize\u001b[0m\u001b[0;34m(\u001b[0m\u001b[0msummed_mac_list\u001b[0m\u001b[0;34m)\u001b[0m\u001b[0;34m\u001b[0m\u001b[0;34m\u001b[0m\u001b[0m\n",
      "\u001b[0;32m~/miniconda3/lib/python3.6/site-packages/numpy/core/numeric.py\u001b[0m in \u001b[0;36masarray\u001b[0;34m(a, dtype, order)\u001b[0m\n\u001b[1;32m    499\u001b[0m \u001b[0;34m\u001b[0m\u001b[0m\n\u001b[1;32m    500\u001b[0m     \"\"\"\n\u001b[0;32m--> 501\u001b[0;31m     \u001b[0;32mreturn\u001b[0m \u001b[0marray\u001b[0m\u001b[0;34m(\u001b[0m\u001b[0ma\u001b[0m\u001b[0;34m,\u001b[0m \u001b[0mdtype\u001b[0m\u001b[0;34m,\u001b[0m \u001b[0mcopy\u001b[0m\u001b[0;34m=\u001b[0m\u001b[0;32mFalse\u001b[0m\u001b[0;34m,\u001b[0m \u001b[0morder\u001b[0m\u001b[0;34m=\u001b[0m\u001b[0morder\u001b[0m\u001b[0;34m)\u001b[0m\u001b[0;34m\u001b[0m\u001b[0;34m\u001b[0m\u001b[0m\n\u001b[0m\u001b[1;32m    502\u001b[0m \u001b[0;34m\u001b[0m\u001b[0m\n\u001b[1;32m    503\u001b[0m \u001b[0;34m\u001b[0m\u001b[0m\n",
      "\u001b[0;31mValueError\u001b[0m: could not broadcast input array from shape (2000,3,3,1024) into shape (2000)"
     ]
    }
   ],
   "source": [
    "rmac = calculate_rmac(conv_maps)\n",
    "print('rmac.shape', rmac.shape)"
   ]
  },
  {
   "cell_type": "code",
   "execution_count": null,
   "metadata": {},
   "outputs": [],
   "source": []
  }
 ],
 "metadata": {
  "kernelspec": {
   "display_name": "Python 3",
   "language": "python",
   "name": "python3"
  },
  "language_info": {
   "codemirror_mode": {
    "name": "ipython",
    "version": 3
   },
   "file_extension": ".py",
   "mimetype": "text/x-python",
   "name": "python",
   "nbconvert_exporter": "python",
   "pygments_lexer": "ipython3",
   "version": "3.6.8"
  }
 },
 "nbformat": 4,
 "nbformat_minor": 2
}
